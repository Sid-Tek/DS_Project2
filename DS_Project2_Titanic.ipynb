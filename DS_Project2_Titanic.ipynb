{
  "nbformat": 4,
  "nbformat_minor": 0,
  "metadata": {
    "colab": {
      "provenance": [],
      "collapsed_sections": [
        "z3IcdxCmzcAX"
      ]
    },
    "kernelspec": {
      "name": "python3",
      "display_name": "Python 3"
    },
    "language_info": {
      "name": "python"
    }
  },
  "cells": [
    {
      "cell_type": "markdown",
      "source": [
        "#**Exploring Titanic Survival Patterns: A Data Analysis Project**\n",
        "\n",
        "WHAT IS THE BIGGEST FACTOR THAT IMPACTED SURVIVAL IN THE TITANIC?\n",
        "\n",
        "\n",
        "\n"
      ],
      "metadata": {
        "id": "ScU1f8BzsPRw"
      }
    },
    {
      "cell_type": "markdown",
      "source": [
        "##**Introduction**:\n",
        "\n",
        "The sinking of the Titanic remains one of the most tragic maritime disasters in history, capturing the imagination and curiosity of people worldwide. This data analysis project delves into the passenger manifest of the Titanic, aiming to uncover patterns and insights that shed light on the factors influencing survival during that fateful voyage.\n",
        "\n",
        "The Titanic dataset, sourced from the renowned Kaggle platform, provides a comprehensive snapshot of passenger information, including demographics, socio-economic status, and crucial details related to the journey. By leveraging the power of data analytics, this project seeks to answer pivotal questions and extract meaningful observations that contribute to our understanding of the dynamics at play during this iconic event.\n",
        "\n",
        "Through a series of carefully crafted questions, we explore the impact of gender, age, passenger class, fares, and other variables on survival rates. Each question is a step towards unraveling the complex interplay of factors that determined who lived and who tragically perished.\n",
        "\n",
        "This journey into the Titanic dataset involves not only statistical analysis but also the creation of actionable insights that can inform future discussions, emergency planning, or historical understanding. The findings aim to distill complex patterns into digestible narratives, making the project accessible to a wide audience interested in the human aspects of this historical event.\n",
        "\n",
        "Whether you are a data enthusiast, a Titanic history buff, or someone curious about the stories hidden within datasets, this project invites you to explore, analyze, and reflect on the factors that shaped the fate of those aboard the ill-fated Titanic."
      ],
      "metadata": {
        "id": "hUz79xBT5sc0"
      }
    },
    {
      "cell_type": "markdown",
      "source": [
        "##**Raw Dataset**\n",
        "\n",
        "titanic.csv\n",
        "\n",
        "Link:"
      ],
      "metadata": {
        "id": "m_-7t2qJsfzh"
      }
    },
    {
      "cell_type": "markdown",
      "source": [
        "##**Loading Data and Preprocessing**"
      ],
      "metadata": {
        "id": "z3IcdxCmzcAX"
      }
    },
    {
      "cell_type": "code",
      "execution_count": 42,
      "metadata": {
        "colab": {
          "base_uri": "https://localhost:8080/"
        },
        "id": "Vzj1p790r2AN",
        "outputId": "f88b115a-85d3-4566-d52d-dd7c036e926d"
      },
      "outputs": [
        {
          "output_type": "stream",
          "name": "stdout",
          "text": [
            "<class 'pandas.core.frame.DataFrame'>\n",
            "RangeIndex: 891 entries, 0 to 890\n",
            "Data columns (total 12 columns):\n",
            " #   Column       Non-Null Count  Dtype  \n",
            "---  ------       --------------  -----  \n",
            " 0   PassengerId  891 non-null    int64  \n",
            " 1   Survived     891 non-null    int64  \n",
            " 2   Pclass       891 non-null    int64  \n",
            " 3   Name         891 non-null    object \n",
            " 4   Sex          891 non-null    object \n",
            " 5   Age          714 non-null    float64\n",
            " 6   SibSp        891 non-null    int64  \n",
            " 7   Parch        891 non-null    int64  \n",
            " 8   Ticket       891 non-null    object \n",
            " 9   Fare         891 non-null    float64\n",
            " 10  Cabin        204 non-null    object \n",
            " 11  Embarked     889 non-null    object \n",
            "dtypes: float64(2), int64(5), object(5)\n",
            "memory usage: 83.7+ KB\n",
            "None\n"
          ]
        }
      ],
      "source": [
        "import pandas as pd\n",
        "import matplotlib.pyplot as plt\n",
        "import seaborn as sns\n",
        "\n",
        "# Load data into a Pandas DataFrame\n",
        "titanic_df = pd.read_csv(\"titanic.csv\")\n",
        "\n",
        "# Display basic information about the dataset\n",
        "print(titanic_df.info())\n",
        "\n",
        "# Handling missing values\n",
        "titanic_df.dropna(inplace=True)\n",
        "\n",
        "# Convert categorical variables to numerical (e.g., convert 'Sex' to 0 for male and 1 for female)\n",
        "titanic_df['Sex'] = titanic_df['Sex'].map({'male': 0, 'female': 1})"
      ]
    },
    {
      "cell_type": "markdown",
      "source": [
        "##**Questions to Answer**\n",
        "\n",
        "\n",
        "1.   How does survival vary by gender?\n",
        "2.   What is the distribution of survival rates among different age groups (e.g., children, adults, elderly)?\n",
        "3. What is the distribution of passenger classes among survivors and non survivors?\n",
        "4. What is the distribution of fares paid by passengers?\n",
        "5. Did fares play a role in their survival?\n",
        "6. What is the average age of passengers?\n",
        "7. What is the overall survival rate?\n",
        "8. How many passengers embarked from each port (C = Cherbourg, Q = Queenstown, S = Southampton)?\n",
        "9. Did the port of embarkation impact survival rates?\n",
        "10. What was the distribution of cabin classes?\n",
        "11. How did the survival rates vary among different cabin classes and decks?\n",
        "12. Can we identify any patterns or trends in the names or titles of passengers that might be correlated with survival?\n",
        "13. Find the number of people in each cabin in the Titanic.\n",
        "\n",
        "\n",
        "\n"
      ],
      "metadata": {
        "id": "weKdu6i6tZt-"
      }
    },
    {
      "cell_type": "markdown",
      "source": [
        "###How does survival vary by gender?"
      ],
      "metadata": {
        "id": "RNa34x-6zmSk"
      }
    },
    {
      "cell_type": "code",
      "source": [
        "# Gender-wise Survival Rate\n",
        "gender_survival_rate = titanic_df.groupby('Sex')['Survived'].mean()\n",
        "print(\"Survival Rate by Gender:\")\n",
        "print(gender_survival_rate)"
      ],
      "metadata": {
        "colab": {
          "base_uri": "https://localhost:8080/"
        },
        "id": "LFsN8jqKuztS",
        "outputId": "ebeb73f4-3b19-4a9d-ddba-d73319a998f6"
      },
      "execution_count": 43,
      "outputs": [
        {
          "output_type": "stream",
          "name": "stdout",
          "text": [
            "Survival Rate by Gender:\n",
            "Sex\n",
            "0    0.431579\n",
            "1    0.931818\n",
            "Name: Survived, dtype: float64\n"
          ]
        }
      ]
    },
    {
      "cell_type": "markdown",
      "source": [
        "###What is the distribution of survival rates among different age groups (e.g., children, adults, elderly)?"
      ],
      "metadata": {
        "id": "5zOzin40z__8"
      }
    },
    {
      "cell_type": "code",
      "source": [
        "# Age-wise Survival Rate\n",
        "age_survival_rate = pd.cut(titanic_df['Age'], bins=[0, 18, 35, 60, 100], labels=['Child', 'Adult', 'Middle-aged', 'Elderly'])\n",
        "age_survival_rate = titanic_df.groupby(age_survival_rate)['Survived'].mean()\n",
        "print(\"Survival Rate by Age Group:\")\n",
        "print(age_survival_rate)"
      ],
      "metadata": {
        "colab": {
          "base_uri": "https://localhost:8080/"
        },
        "id": "quFWunCgu4k6",
        "outputId": "ecf9bdab-54dc-463b-edad-a1977244f604"
      },
      "execution_count": 44,
      "outputs": [
        {
          "output_type": "stream",
          "name": "stdout",
          "text": [
            "Survival Rate by Age Group:\n",
            "Age\n",
            "Child          0.869565\n",
            "Adult          0.761194\n",
            "Middle-aged    0.602410\n",
            "Elderly        0.200000\n",
            "Name: Survived, dtype: float64\n"
          ]
        }
      ]
    },
    {
      "cell_type": "markdown",
      "source": [
        "###What is the distribution of passenger classes among survivors and non survivors?"
      ],
      "metadata": {
        "id": "3yv7DFfl0F9w"
      }
    },
    {
      "cell_type": "code",
      "source": [
        "# Pclass-wise Distribution among Survivors and Non-survivors\n",
        "pclass_distribution = titanic_df.groupby(['Survived', 'Pclass']).size().unstack()\n",
        "print(\"Distribution of Passenger Classes among Survivors and Non-survivors:\")\n",
        "print(pclass_distribution)"
      ],
      "metadata": {
        "colab": {
          "base_uri": "https://localhost:8080/"
        },
        "id": "2lVeYtGTu85W",
        "outputId": "16f22acb-e2cc-4ecd-864d-273a5653db5e"
      },
      "execution_count": 45,
      "outputs": [
        {
          "output_type": "stream",
          "name": "stdout",
          "text": [
            "Distribution of Passenger Classes among Survivors and Non-survivors:\n",
            "Pclass      1   2  3\n",
            "Survived            \n",
            "0          52   3  5\n",
            "1         106  12  5\n"
          ]
        }
      ]
    },
    {
      "cell_type": "markdown",
      "source": [
        "###What is the distribution of fares paid by passengers?"
      ],
      "metadata": {
        "id": "3ta68AVk0J1_"
      }
    },
    {
      "cell_type": "code",
      "source": [
        "# Fare Distribution\n",
        "sns.histplot(titanic_df['Fare'], kde=True)\n",
        "plt.title('Fare Distribution')\n",
        "plt.show()"
      ],
      "metadata": {
        "colab": {
          "base_uri": "https://localhost:8080/",
          "height": 472
        },
        "id": "ZY4ywrPgvEcE",
        "outputId": "d56e7184-fe00-4a56-dc3c-f6daff27ac49"
      },
      "execution_count": 46,
      "outputs": [
        {
          "output_type": "display_data",
          "data": {
            "text/plain": [
              "<Figure size 640x480 with 1 Axes>"
            ],
            "image/png": "[encoded data removed]"
          },
          "metadata": {}
        }
      ]
    },
    {
      "cell_type": "markdown",
      "source": [
        "###Did fares play a role in their survival?"
      ],
      "metadata": {
        "id": "IYKz4l_a0OZp"
      }
    },
    {
      "cell_type": "code",
      "source": [
        "# Fare vs Survival\n",
        "sns.boxplot(x='Survived', y='Fare', data=titanic_df)\n",
        "plt.title('Fare vs Survival')\n",
        "plt.show()"
      ],
      "metadata": {
        "colab": {
          "base_uri": "https://localhost:8080/",
          "height": 472
        },
        "id": "6TpMTuBI0O3X",
        "outputId": "af2f1e2d-849c-4e04-c3e4-80a768cb5c14"
      },
      "execution_count": 47,
      "outputs": [
        {
          "output_type": "display_data",
          "data": {
            "text/plain": [
              "<Figure size 640x480 with 1 Axes>"
            ],
            "image/png": "[encoded data removed]"
          },
          "metadata": {}
        }
      ]
    },
    {
      "cell_type": "markdown",
      "source": [
        "###What is the average age of passengers?"
      ],
      "metadata": {
        "id": "8Jau6N3t0kRA"
      }
    },
    {
      "cell_type": "code",
      "source": [
        "# Average Age\n",
        "average_age = titanic_df['Age'].mean()\n",
        "print(\"Average Age of Passengers:\", average_age)"
      ],
      "metadata": {
        "colab": {
          "base_uri": "https://localhost:8080/"
        },
        "id": "X9z0QJrCvQAI",
        "outputId": "dc4ba343-c885-419f-e40f-f5cfd6106dc2"
      },
      "execution_count": 48,
      "outputs": [
        {
          "output_type": "stream",
          "name": "stdout",
          "text": [
            "Average Age of Passengers: 35.6744262295082\n"
          ]
        }
      ]
    },
    {
      "cell_type": "markdown",
      "source": [
        "###What is the overall survival rate?"
      ],
      "metadata": {
        "id": "mPbxvsom0k2Y"
      }
    },
    {
      "cell_type": "code",
      "source": [
        "# Overall Survival Rate\n",
        "overall_survival_rate = titanic_df['Survived'].mean()\n",
        "print(\"Overall Survival Rate:\", overall_survival_rate)"
      ],
      "metadata": {
        "colab": {
          "base_uri": "https://localhost:8080/"
        },
        "id": "oDkWt1vyvVxs",
        "outputId": "43bee1a4-ec47-4ec6-fbfa-1938ce8ae6b3"
      },
      "execution_count": 49,
      "outputs": [
        {
          "output_type": "stream",
          "name": "stdout",
          "text": [
            "Overall Survival Rate: 0.6721311475409836\n"
          ]
        }
      ]
    },
    {
      "cell_type": "markdown",
      "source": [
        "###How many passengers embarked from each port (C = Cherbourg, Q = Queenstown, S = Southampton)?"
      ],
      "metadata": {
        "id": "Orn_9buw0lj_"
      }
    },
    {
      "cell_type": "code",
      "source": [
        "# Passengers embarked from each port\n",
        "embarkation_counts = titanic_df['Embarked'].value_counts()\n",
        "print(\"Passengers Embarked from Each Port:\")\n",
        "print(embarkation_counts)"
      ],
      "metadata": {
        "colab": {
          "base_uri": "https://localhost:8080/"
        },
        "id": "HPjWp21AvXMZ",
        "outputId": "17655d71-c28f-4924-8174-9cb34c01242e"
      },
      "execution_count": 50,
      "outputs": [
        {
          "output_type": "stream",
          "name": "stdout",
          "text": [
            "Passengers Embarked from Each Port:\n",
            "S    116\n",
            "C     65\n",
            "Q      2\n",
            "Name: Embarked, dtype: int64\n"
          ]
        }
      ]
    },
    {
      "cell_type": "markdown",
      "source": [
        "###Did the port of embarkation impact survival rates?"
      ],
      "metadata": {
        "id": "dLrl0R-w1WTt"
      }
    },
    {
      "cell_type": "code",
      "source": [
        "# Embarkation-wise Survival Rate\n",
        "embarkation_survival_rate = titanic_df.groupby('Embarked')['Survived'].mean()\n",
        "print(\"\\nSurvival Rate by Embarkation Port:\")\n",
        "print(embarkation_survival_rate)"
      ],
      "metadata": {
        "colab": {
          "base_uri": "https://localhost:8080/"
        },
        "id": "vpXCi9fw1Y5b",
        "outputId": "7ef51b02-4515-4d4d-b01a-6e740dbd3e63"
      },
      "execution_count": 51,
      "outputs": [
        {
          "output_type": "stream",
          "name": "stdout",
          "text": [
            "\n",
            "Survival Rate by Embarkation Port:\n",
            "Embarked\n",
            "C    0.738462\n",
            "Q    0.500000\n",
            "S    0.637931\n",
            "Name: Survived, dtype: float64\n"
          ]
        }
      ]
    },
    {
      "cell_type": "markdown",
      "source": [
        "###What was the distribution of cabin classes?"
      ],
      "metadata": {
        "id": "plHFVp9t0mMk"
      }
    },
    {
      "cell_type": "code",
      "source": [
        "# Extract the first letter of the Cabin column to create a CabinClass column\n",
        "titanic_df['CabinClass'] = titanic_df['Cabin'].str[0]\n",
        "\n",
        "# Count the number of occurrences of each cabin class\n",
        "cabin_distribution = titanic_df['CabinClass'].value_counts()\n",
        "\n",
        "# Plot the distribution of cabins\n",
        "plt.figure(figsize=(10, 6))\n",
        "sns.barplot(x=cabin_distribution.index, y=cabin_distribution.values, palette=\"viridis\")\n",
        "plt.title('Distribution of Cabins in the Titanic')\n",
        "plt.xlabel('Cabin Class')\n",
        "plt.ylabel('Count')\n",
        "plt.show()"
      ],
      "metadata": {
        "colab": {
          "base_uri": "https://localhost:8080/",
          "height": 564
        },
        "id": "oN-ChQ_WviIK",
        "outputId": "bb24d78e-8799-4926-8365-81ec3c0e352a"
      },
      "execution_count": 52,
      "outputs": [
        {
          "output_type": "display_data",
          "data": {
            "text/plain": [
              "<Figure size 1000x600 with 1 Axes>"
            ],
            "image/png": "[encoded data removed]"
          },
          "metadata": {}
        }
      ]
    },
    {
      "cell_type": "markdown",
      "source": [
        "###How did the survival rates vary among different cabin classes and decks?"
      ],
      "metadata": {
        "id": "EFt4oyY70n-V"
      }
    },
    {
      "cell_type": "code",
      "source": [
        "# Cabin Class-wise Survival Rate\n",
        "cabin_class_survival_rate = titanic_df.groupby('CabinClass')['Survived'].mean()\n",
        "print(cabin_class_survival_rate)"
      ],
      "metadata": {
        "colab": {
          "base_uri": "https://localhost:8080/"
        },
        "id": "Rg3iSElf0oYR",
        "outputId": "3e7e2850-fa37-4680-a254-d046dfced966"
      },
      "execution_count": 53,
      "outputs": [
        {
          "output_type": "stream",
          "name": "stdout",
          "text": [
            "CabinClass\n",
            "A    0.583333\n",
            "B    0.744186\n",
            "C    0.588235\n",
            "D    0.741935\n",
            "E    0.733333\n",
            "F    0.636364\n",
            "G    0.500000\n",
            "T    0.000000\n",
            "Name: Survived, dtype: float64\n"
          ]
        }
      ]
    },
    {
      "cell_type": "markdown",
      "source": [
        "###Can we identify any patterns or trends in the names or titles of passengers that might be correlated with survival?"
      ],
      "metadata": {
        "id": "gdoUNaRx0q2J"
      }
    },
    {
      "cell_type": "code",
      "source": [
        "# Extracting titles from names\n",
        "titanic_df['Title'] = titanic_df['Name'].str.extract(' ([A-Za-z]+)\\.')\n",
        "\n",
        "# Title-wise Survival Rate\n",
        "title_survival_rate = titanic_df.groupby('Title')['Survived'].mean()\n",
        "print(\"Survival Rate by Title (in percentage):\")\n",
        "print(title_survival_rate)"
      ],
      "metadata": {
        "colab": {
          "base_uri": "https://localhost:8080/"
        },
        "id": "PBC3ihHkv_PA",
        "outputId": "83a9d8ff-47d6-4a13-ce62-66143931e2e5"
      },
      "execution_count": 54,
      "outputs": [
        {
          "output_type": "stream",
          "name": "stdout",
          "text": [
            "Survival Rate by Title (in percentage):\n",
            "Title\n",
            "Capt        0.000000\n",
            "Col         1.000000\n",
            "Countess    1.000000\n",
            "Dr          0.666667\n",
            "Lady        1.000000\n",
            "Major       0.500000\n",
            "Master      1.000000\n",
            "Miss        0.931818\n",
            "Mlle        1.000000\n",
            "Mme         1.000000\n",
            "Mr          0.370370\n",
            "Mrs         0.921053\n",
            "Sir         1.000000\n",
            "Name: Survived, dtype: float64\n"
          ]
        }
      ]
    },
    {
      "cell_type": "markdown",
      "source": [
        "###Find the number of people in each cabin in the Titanic"
      ],
      "metadata": {
        "id": "R_1HRtZa0rhd"
      }
    },
    {
      "cell_type": "code",
      "source": [
        "# Count the number of occurrences of each unique cabin\n",
        "cabin_distribution = titanic_df['Cabin'].value_counts()\n",
        "\n",
        "# Create a dictionary to store cabins grouped by count\n",
        "count_cabins_dict = {}\n",
        "for cabin, count in cabin_distribution.items():\n",
        "    if count not in count_cabins_dict:\n",
        "        count_cabins_dict[count] = [cabin]\n",
        "    else:\n",
        "        count_cabins_dict[count].append(cabin)\n",
        "\n",
        "# Print counts along with cabins having that count, starting from count 1\n",
        "for count in range(1, max(count_cabins_dict.keys()) + 1):\n",
        "    if count in count_cabins_dict:\n",
        "        cabins_str = ', '.join(count_cabins_dict[count])\n",
        "        print(f\"{count} - {cabins_str}\")"
      ],
      "metadata": {
        "colab": {
          "base_uri": "https://localhost:8080/"
        },
        "id": "SwWy3XLDwFK8",
        "outputId": "34f6a927-78d8-4963-bc4c-9f4a8f6b46fd"
      },
      "execution_count": 55,
      "outputs": [
        {
          "output_type": "stream",
          "name": "stdout",
          "text": [
            "1 - B50, A26, C85, A23, D9, D50, E58, D19, A20, B41, E68, A10, C101, A16, C70, C86, D48, C126, B71, D49, B42, C50, A24, E17, D28, E49, B69, A36, B82 B84, D6, B3, E77, D11, D30, C46, B101, C45, B38, C90, C62 C64, F G63, B39, C52, B73, B19, C118, C99, B94, C87, D15, A31, B80, B4, C49, A7, B86, D46, D47, C110, D10 D12, A5, E31, B30, A6, D56, C103, E46, D7, E36, C54, C7, B79, C30, B37, E63, E12, E38, C92, C111, C104, A34, E10, C82, E50, D37, E33, T, E40, C91, C124, C32, E34, C148\n",
            "2 - B35, C65, F4, E44, C123, D36, E121, C93, C78, D35, E8, B77, E67, C125, C2, B57 B59 B63 B66, E24, F G73, B22, E25, B51 B53 B55, D20, D33, B18, C83, B49, B5, C68, D26, D17, B58 B60, E101, B20\n",
            "3 - F33, D, C22 C26, F2\n",
            "4 - G6, B96 B98, C23 C25 C27\n"
          ]
        }
      ]
    },
    {
      "cell_type": "markdown",
      "source": [
        "#**Insights and Observations**"
      ],
      "metadata": {
        "id": "loEkZ7Qi3gI9"
      }
    },
    {
      "cell_type": "markdown",
      "source": [
        "#### 1. Gender Impact:\n",
        "- **Insight:** Females had a significantly higher survival rate (93.2%) compared to males (43.2%). This is probably because of prioritizing women and children in emergency situations.\n",
        "\n",
        "#### 2. Age and Survival:\n",
        "- **Insight:** Children (0-18) had the highest survival rate (86.9%), followed by adults (76.1%), middle-aged (60.2%), and the elderly (20%). In emergency plans, specific accommodations and attention are provided for vulnerable age groups.\n",
        "\n",
        "#### 3. Passenger Class and Survival:\n",
        "- **Insight:** Passengers in higher classes (1st and 2nd) had higher survival rates compared to 3rd class.\n",
        "\n",
        "#### 4 & 5. Fare and Survival:\n",
        "- **Insight:** The distribution of fares varied, and there's a visible trend that higher fares might be associated with higher survival. This shows that fare information can be used as an additional factor in emergency response planning.\n",
        "\n",
        "#### 6. Average Age:\n",
        "- **Insight:** The average age of passengers was 35.67. The age distribution affects planning for the needs of different age groups.\n",
        "\n",
        "#### 7. Overall Survival Rate:\n",
        "- **Insight:** The overall survival rate was 67.2%.\n",
        "\n",
        "#### 8 & 9. Port of Embarkation and Survival:\n",
        "- **Insight:** Passengers who embarked from Cherbourg had the highest survival rate (73.8%), followed by Southampton (63.8%) and Queenstown (50%).\n",
        "\n",
        "#### 10 & 11. Cabin Class and Survival:\n",
        "- **Insight:** Cabins of class B, D, and E had higher survival rates, while class G had the lowest. Layout and location of cabins might have affected survival factors.\n",
        "\n",
        "#### 12. Title and Survival:\n",
        "- **Insight:** Passengers with titles like \"Miss,\" \"Mrs,\" and \"Mlle\" had high survival rates, while titles like \"Mr\" had a lower rate. In this emergency situation, individuals with titles are associated with higher survival rates.\n",
        "\n",
        "#### 13. Cabin Distribution:\n",
        "- **Insight:** Cabins with counts of 1 to 4 are diverse, and some cabins are shared by multiple passengers. The cabin distribution helps to understand the spatial arrangement and potential impact on evacuation."
      ],
      "metadata": {
        "id": "H4aZ_E6Q3mEY"
      }
    },
    {
      "cell_type": "markdown",
      "source": [
        "\n",
        "##**Conclusion**:\n",
        "\n",
        "In the tragedy of the Titanic, various factors influenced survival rates. Gender, age, passenger class, fare, embarkation port, cabin class, and titles played crucial roles. Females and children were more likely to survive, while first-class passengers and those with higher fares had better odds. The spatial arrangement of cabins, embarkation from Cherbourg, and specific titles also contributed to survival disparities.\n",
        "\n",
        "In emergency preparedness, understanding these factors is crucial. Allocation of resources, prioritization in evacuation plans, and tailored approaches for different groups can enhance the chances of survival. The insights derived from the analysis provide a nuanced understanding of the Titanic's passengers, aiding in creating more effective and inclusive emergency response strategies."
      ],
      "metadata": {
        "id": "vnONOsiP5gop"
      }
    }
  ]
}